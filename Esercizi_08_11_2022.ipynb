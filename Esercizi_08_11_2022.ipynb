{
  "nbformat": 4,
  "nbformat_minor": 0,
  "metadata": {
    "colab": {
      "provenance": [],
      "collapsed_sections": [],
      "authorship_tag": "ABX9TyPVbAtb2XmHb6yMC9DMQcNu",
      "include_colab_link": true
    },
    "kernelspec": {
      "name": "python3",
      "display_name": "Python 3"
    },
    "language_info": {
      "name": "python"
    }
  },
  "cells": [
    {
      "cell_type": "markdown",
      "metadata": {
        "id": "view-in-github",
        "colab_type": "text"
      },
      "source": [
        "<a href=\"https://colab.research.google.com/github/CottoneEnrico/python/blob/main/Esercizi_08_11_2022.ipynb\" target=\"_parent\"><img src=\"https://colab.research.google.com/assets/colab-badge.svg\" alt=\"Open In Colab\"/></a>"
      ]
    },
    {
      "cell_type": "markdown",
      "source": [
        "# Esercizio 1\n",
        "Si vogliono memorizzare le informazioni riguardanti alcune nazioni dell'unione Europea. Di ogni nazione si vuole memorizzare il **nome**, la **capitale**, la **superficie** e la **popolazione**.\n",
        "\n",
        "##Caricare le informazioni nella struttura dati ritenuta più opportuna.\n",
        "Scrivere poi il codice per avere le seguenti informazioni:\n",
        "1. Dato il nome di una nazione tutte le sue informazioni.\n",
        "2. Dato il nome di una capitale visualizzare la nazione a qui appartiene.\n",
        "3. Visualizzare il nome della nazione più estesa (superficie).\n",
        "4. Visualizzare la media delle popolazioni delle nazioni presenti."
      ],
      "metadata": {
        "id": "JYAOtEPBveRC"
      }
    },
    {
      "cell_type": "code",
      "source": [
        "Nazioni = [\n",
        "    {\n",
        "        \"nome\": \"Italia\",\n",
        "        \"capitale\": \"Roma\",\n",
        "        \"superficie\": 301230,\n",
        "        \"popolazione\": 58983000\n",
        "    },\n",
        "    {\n",
        "        \"nome\": \"Francia\",\n",
        "        \"capitale\": \"Parigi\",\n",
        "        \"superficie\": 543940,\n",
        "        \"popolazione\": 65554051\n",
        "    },\n",
        "    {\n",
        "        \"nome\": \"Austria\",\n",
        "        \"capitale\": \"Vienna\",\n",
        "        \"superficie\": 83879,\n",
        "        \"popolazione\": 9027999\n",
        "    },\n",
        "    {\n",
        "        \"nome\": \"Finlandia\",\n",
        "        \"capitale\": \"Helsinki\",\n",
        "        \"superficie\": 33842438,\n",
        "        \"popolazione\": 5536146\n",
        "    },\n",
        "    {\n",
        "        \"nome\": \"Romania\",\n",
        "        \"capitale\": \"Bucarest\",\n",
        "        \"superficie\": 238391,\n",
        "        \"popolazione\": 19638000\n",
        "    },\n",
        "    {\n",
        "        \"nome\": \"Grecia\",\n",
        "        \"capitale\": \"Atene\",\n",
        "        \"superficie\": 131940,\n",
        "        \"popolazione\": 10320227\n",
        "    },\n",
        "    {\n",
        "        \"nome\": \"Germania\",\n",
        "        \"capitale\": \"Berlino\",\n",
        "        \"superficie\": 357582,\n",
        "        \"popolazione\": 84404137\n",
        "    },\n",
        "    {\n",
        "        \"nome\": \"Irlanda\",\n",
        "        \"capitale\": \"Dublino\",\n",
        "        \"superficie\": 70273,\n",
        "        \"popolazione\": 4761865\n",
        "    },\n",
        "    {\n",
        "        \"nome\": \"Polonia\",\n",
        "        \"capitale\": \"Varsavia\",\n",
        "        \"superficie\": 312696,\n",
        "        \"popolazione\": 38470612\n",
        "    }\n",
        "]\n",
        "\n",
        "\n",
        "inputNazione = input(\"Scelga il nome della nazione della quale vuole vedere le informazioni: \")\n",
        "for Nazione in Nazioni:\n",
        "  if inputNazione.lower() == Nazione[\"nome\"].lower():\n",
        "    print(\"Nome: \" + Nazione[\"nome\"] + \"\\nCapitale: \" + Nazione[\"capitale\"] + \"\\nSuperficie: \" + str(Nazione[\"superficie\"]) + \"\\nPopolazione: \" + str(Nazione[\"popolazione\"]))\n",
        "inputCapitale = input(\"Scelga il nome della capitale della quale vuole vedere la nazione: \")\n",
        "for Capitale in Nazioni:\n",
        "  if inputCapitale.lower() == Capitale[\"capitale\"].lower():\n",
        "    print(\"\\nNome: \" + Capitale[\"nome\"])\n",
        "\n",
        "listaSuperfici = [Nazioni[superficie][\"superficie\"] for superficie in range(len(Nazioni))]\n",
        "for nazione in Nazioni:\n",
        "  if max(listaSuperfici) == nazione[\"superficie\"]:\n",
        "    print(\"\\nLa nazione con la superficie più grande è: \" + nazione[\"nome\"] + \", \" + str(nazione[\"superficie\"]))"
      ],
      "metadata": {
        "colab": {
          "base_uri": "https://localhost:8080/"
        },
        "id": "oxXdoPhixOrs",
        "outputId": "96d2682f-cddc-4119-8fab-2e2b280f803b"
      },
      "execution_count": 47,
      "outputs": [
        {
          "output_type": "stream",
          "name": "stdout",
          "text": [
            "Scelga il nome della nazione della quale vuole vedere le informazioni: italia\n",
            "Nome: Italia\n",
            "Capitale: Roma\n",
            "Superficie: 301230\n",
            "Popolazione: 58983000\n",
            "Scelga il nome della capitale della quale vuole vedere la nazione: roma\n",
            "\n",
            "Nome: Italia\n",
            "\n",
            "La nazione con la superficie più grande è: Finlandia, 33842438\n"
          ]
        }
      ]
    },
    {
      "cell_type": "code",
      "source": [],
      "metadata": {
        "id": "2kTmVC_q8izI"
      },
      "execution_count": null,
      "outputs": []
    },
    {
      "cell_type": "markdown",
      "source": [
        "# Esercizio 2\n",
        "Memorizzare in un'opportuna struttura dati i nomi di 10 citta' europee e in un'altra struttura dati i nomi di 10 capitali.\n",
        "\n",
        "Scrivere poi il codice necessario per avere i nomi delle citta' che sono anche capitali."
      ],
      "metadata": {
        "id": "1jYBWgqMwcQt"
      }
    },
    {
      "cell_type": "code",
      "source": [],
      "metadata": {
        "id": "fKrtY145vzxv"
      },
      "execution_count": null,
      "outputs": []
    }
  ]
}