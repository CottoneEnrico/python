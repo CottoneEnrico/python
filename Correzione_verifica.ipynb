{
  "nbformat": 4,
  "nbformat_minor": 0,
  "metadata": {
    "colab": {
      "provenance": [],
      "collapsed_sections": [],
      "authorship_tag": "ABX9TyMQ0ClocJB/B82lycK70vou",
      "include_colab_link": true
    },
    "kernelspec": {
      "name": "python3",
      "display_name": "Python 3"
    },
    "language_info": {
      "name": "python"
    }
  },
  "cells": [
    {
      "cell_type": "markdown",
      "metadata": {
        "id": "view-in-github",
        "colab_type": "text"
      },
      "source": [
        "<a href=\"https://colab.research.google.com/github/CottoneEnrico/python/blob/main/Correzione_verifica.ipynb\" target=\"_parent\"><img src=\"https://colab.research.google.com/assets/colab-badge.svg\" alt=\"Open In Colab\"/></a>"
      ]
    },
    {
      "cell_type": "code",
      "execution_count": null,
      "metadata": {
        "colab": {
          "base_uri": "https://localhost:8080/"
        },
        "id": "MBjaxx1MwjNX",
        "outputId": "020981dc-8d02-4e76-815c-3dd61c2cd35e"
      },
      "outputs": [
        {
          "output_type": "stream",
          "name": "stdout",
          "text": [
            "[5, 10, 15, 20, 25, 30, 35, 40, 45, 50, 55, 60, 65, 70, 75, 80, 85, 90, 95, 100, 105, 110, 115, 120, 125, 130, 135, 140, 145, 150, 155, 160, 165, 170, 175, 180, 185, 190, 195, 200, 205, 210, 215, 220, 225, 230, 235, 240, 245, 250]\n",
            "[5, 10, 15, 20, 25, 30, 35, 40, 45, 50, 55, 60, 65, 70, 75, 80, 85, 90, 95, 100, 105, 110, 115, 120, 125, 130, 135, 140, 145, 150, 155, 160, 165, 170, 175, 180, 185, 190, 195, 200, 205, 210, 215, 220, 225, 230, 235, 240, 245, 250]\n"
          ]
        }
      ],
      "source": [
        "#Caricare con i primi 50 multipli di 5\n",
        "lista1 = [index for index in range(5, 255, 5)]\n",
        "print(lista1)\n",
        "lista1 = [5 * index for index in range(1, 51)]\n",
        "print(lista1)"
      ]
    },
    {
      "cell_type": "code",
      "source": [
        "# Esercizio 2\n",
        "lista2 = [index for index in lista1 if index % 10 == 0]\n",
        "print(lista2)"
      ],
      "metadata": {
        "colab": {
          "base_uri": "https://localhost:8080/"
        },
        "id": "puMA6vTHyx71",
        "outputId": "a936e44c-4a54-4710-d7ad-675dea940258"
      },
      "execution_count": 8,
      "outputs": [
        {
          "output_type": "stream",
          "name": "stdout",
          "text": [
            "[10, 20, 30, 40, 50, 60, 70, 80, 90, 100, 110, 120, 130, 140, 150, 160, 170, 180, 190, 200, 210, 220, 230, 240, 250]\n"
          ]
        }
      ]
    },
    {
      "cell_type": "code",
      "source": [
        "# Esercizio 3\n",
        "\n",
        "print(lista2)\n",
        "count = 30\n",
        "for index in lista2:\n",
        "  if index >= 30 and index <= 60:\n",
        "    lista2.remove(index)\n",
        "    count += 1\n",
        "print(lista2)\n",
        "print(\"Dalla lista due sono stati eliminati\",count,\"elementi\")"
      ],
      "metadata": {
        "id": "6Wl4YTPyBFZd",
        "colab": {
          "base_uri": "https://localhost:8080/"
        },
        "outputId": "26718dc1-ea7f-4dcf-ad52-4146fc6c4e56"
      },
      "execution_count": 13,
      "outputs": [
        {
          "output_type": "stream",
          "name": "stdout",
          "text": [
            "[10, 20, 40, 50, 60, 70, 80, 90, 100, 110, 120, 130, 140, 150, 160, 170, 180, 190, 200, 210, 220, 230, 240, 250]\n",
            "[10, 20, 50, 70, 80, 90, 100, 110, 120, 130, 140, 150, 160, 170, 180, 190, 200, 210, 220, 230, 240, 250]\n",
            "Dalla lista due sono stati eliminati 32 elementi\n"
          ]
        }
      ]
    },
    {
      "cell_type": "code",
      "source": [
        "# Es con neri\n",
        "\n"
      ],
      "metadata": {
        "id": "g5TRSMqORrx1"
      },
      "execution_count": null,
      "outputs": []
    }
  ]
}