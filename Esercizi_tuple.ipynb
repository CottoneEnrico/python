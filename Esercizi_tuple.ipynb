{
  "nbformat": 4,
  "nbformat_minor": 0,
  "metadata": {
    "colab": {
      "provenance": [],
      "authorship_tag": "ABX9TyNSPdVLUDIYU2R3XMqxqKmt",
      "include_colab_link": true
    },
    "kernelspec": {
      "name": "python3",
      "display_name": "Python 3"
    },
    "language_info": {
      "name": "python"
    }
  },
  "cells": [
    {
      "cell_type": "markdown",
      "metadata": {
        "id": "view-in-github",
        "colab_type": "text"
      },
      "source": [
        "<a href=\"https://colab.research.google.com/github/CottoneEnrico/python/blob/main/Esercizi_tuple.ipynb\" target=\"_parent\"><img src=\"https://colab.research.google.com/assets/colab-badge.svg\" alt=\"Open In Colab\"/></a>"
      ]
    },
    {
      "cell_type": "code",
      "execution_count": 3,
      "metadata": {
        "colab": {
          "base_uri": "https://localhost:8080/"
        },
        "id": "C1JKq2BuPu1d",
        "outputId": "a8adf217-d3c8-4c89-ba67-a8d69424b22c"
      },
      "outputs": [
        {
          "output_type": "stream",
          "name": "stdout",
          "text": [
            "(1, 5, 2)\n",
            "<class 'tuple'>\n"
          ]
        }
      ],
      "source": [
        "tup = tuple([1,5,2])\n",
        "print(tup)\n",
        "print(type(tup))"
      ]
    },
    {
      "cell_type": "code",
      "source": [
        "import random\n",
        "\n",
        "lista = tuple(random.sample(range(1,100), 20))\n",
        "print(lista)"
      ],
      "metadata": {
        "colab": {
          "base_uri": "https://localhost:8080/"
        },
        "id": "S74PR2sGTeh6",
        "outputId": "4787ec7c-79db-47e1-b3b6-8e50595b107c"
      },
      "execution_count": 22,
      "outputs": [
        {
          "output_type": "stream",
          "name": "stdout",
          "text": [
            "(15, 54, 62, 28, 63, 65, 61, 11, 76, 91, 29, 82, 87, 41, 75, 49, 38, 23, 26, 30)\n"
          ]
        }
      ]
    },
    {
      "cell_type": "code",
      "source": [
        "lista = list(lista)\n",
        "\n",
        "lista[0:0] = [\"Avasiloae\", \"Bernasconi\", \"Cottone\"]\n",
        "print(lista)\n",
        "lista = tuple(lista)\n",
        "print(lista)"
      ],
      "metadata": {
        "colab": {
          "base_uri": "https://localhost:8080/"
        },
        "id": "T8hhyRVqVymG",
        "outputId": "b3188b06-ff6a-4c57-fb59-bf3d48d022b9"
      },
      "execution_count": 23,
      "outputs": [
        {
          "output_type": "stream",
          "name": "stdout",
          "text": [
            "['Avasiloae', 'Bernasconi', 'Cottone', 15, 54, 62, 28, 63, 65, 61, 11, 76, 91, 29, 82, 87, 41, 75, 49, 38, 23, 26, 30]\n",
            "('Avasiloae', 'Bernasconi', 'Cottone', 15, 54, 62, 28, 63, 65, 61, 11, 76, 91, 29, 82, 87, 41, 75, 49, 38, 23, 26, 30)\n"
          ]
        }
      ]
    }
  ]
}