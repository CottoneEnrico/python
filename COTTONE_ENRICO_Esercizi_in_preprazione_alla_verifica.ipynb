{
  "nbformat": 4,
  "nbformat_minor": 0,
  "metadata": {
    "colab": {
      "provenance": [],
      "collapsed_sections": [],
      "include_colab_link": true
    },
    "kernelspec": {
      "name": "python3",
      "display_name": "Python 3"
    },
    "language_info": {
      "name": "python"
    }
  },
  "cells": [
    {
      "cell_type": "markdown",
      "metadata": {
        "id": "view-in-github",
        "colab_type": "text"
      },
      "source": [
        "<a href=\"https://colab.research.google.com/github/CottoneEnrico/python/blob/main/COTTONE_ENRICO_Esercizi_in_preprazione_alla_verifica.ipynb\" target=\"_parent\"><img src=\"https://colab.research.google.com/assets/colab-badge.svg\" alt=\"Open In Colab\"/></a>"
      ]
    },
    {
      "cell_type": "markdown",
      "source": [
        "Prendere in considerazione l'elenco degli studenti della 3E: Avasiloae, Bernasconi, Cottone, D'Arienzo, Dipace, El Allami, Finessi, Fontana, Geremicca, Leone, Lotorto, Milella, Muhammad, Neri, Papes e Poliseno. Qui di seguito ci sono gli studenti che sono stati interrogati in Sistemi: Finessi, Fontana, Geremicca, Neri, Papes. Questi sono invece gli studenti che sono stati interrogati in Tecnologie: Cottone, D'Arienzo, Dipace, El Allami, Finessi, Fontana. Infine, questi sono gli studenti che sono stati interrogati in Informatica: Cottone, Fontana, Papes, Poliseno.\n",
        "\n",
        "Memorizzare queste informazioni in opportune strutture dati \n"
      ],
      "metadata": {
        "id": "CIoz-LH_JcaS"
      }
    },
    {
      "cell_type": "code",
      "source": [
        "studenti = {\"Avasiloae\", \"Bernasconi\", \"Cottone\", \"D'Arienzo\", \"Dipace\", \"El Allami\", \"Finessi\", \"Fontana\", \"Geremicca\", \"Leone\", \"Lotorto\", \"Milella\", \"Muhammad\", \"Neri\", \"Papes\", \"Poliseno\"}\n",
        "interrogatiSistemi = {\"Finessi\", \"Fontana\", \"Geremicca\", \"Neri\", \"Papes\"}\n",
        "interrogatiTecnologie = {\"Cottone\", \"D'Arienzo\", \"Dipace\", \"El Allami\", \"Finessi\", \"Fontana\"}\n",
        "interrogatiInformatica = {\"Cottone\", \"Fontana\", \"Papes\", \"Poliseno\"}\n",
        "\n",
        "#tuttiGliInterrogati = set.union(interrogatiTecnologie, interrogatiInformatica, interrogatiSistemi)"
      ],
      "metadata": {
        "id": "FcA6ciGINCNR"
      },
      "execution_count": 1,
      "outputs": []
    },
    {
      "cell_type": "markdown",
      "source": [
        "Scrivere le istruzioni per avere le seguenti informazioni:\n",
        "\n",
        "1. Quali sono gli studenti che sono stati interrogati in almeno una materia?"
      ],
      "metadata": {
        "id": "swXPUzm6ND89"
      }
    },
    {
      "cell_type": "code",
      "source": [
        "interrogati = set.union(interrogatiSistemi, interrogatiTecnologie, interrogatiInformatica)\n",
        "print(studenti.intersection(interrogati))"
      ],
      "metadata": {
        "id": "lPoeA6WCNQUb",
        "colab": {
          "base_uri": "https://localhost:8080/"
        },
        "outputId": "95f135ab-01bd-4100-aa8b-f8687c46b8e0"
      },
      "execution_count": 35,
      "outputs": [
        {
          "output_type": "stream",
          "name": "stdout",
          "text": [
            "{'Poliseno', 'Fontana', 'El Allami', 'Papes', 'Cottone', 'Finessi', 'Dipace', \"D'Arienzo\", 'Neri', 'Geremicca'}\n"
          ]
        }
      ]
    },
    {
      "cell_type": "markdown",
      "source": [
        "2. Quali sono gli studenti che sono stati interrogati in tutte e tre le materie?"
      ],
      "metadata": {
        "id": "hnB69eRMNQub"
      }
    },
    {
      "cell_type": "code",
      "source": [
        "print(studenti.intersection(interrogatiSistemi, interrogatiInformatica, interrogatiTecnologie))"
      ],
      "metadata": {
        "id": "CHJF5HwxNRvN",
        "colab": {
          "base_uri": "https://localhost:8080/"
        },
        "outputId": "6d12a734-2c9e-45ff-e232-7fc9de3b9b20"
      },
      "execution_count": 2,
      "outputs": [
        {
          "output_type": "stream",
          "name": "stdout",
          "text": [
            "{'Fontana'}\n"
          ]
        }
      ]
    },
    {
      "cell_type": "markdown",
      "source": [
        "3. Quali sono gli studenti che sono stati interrogati che devono ancora essere interrogati in Informatica?"
      ],
      "metadata": {
        "id": "MJsxZy-tNSB0"
      }
    },
    {
      "cell_type": "code",
      "source": [
        "print(studenti.symmetric_difference(interrogatiInformatica))"
      ],
      "metadata": {
        "id": "Hl4LOAH8NVf1",
        "colab": {
          "base_uri": "https://localhost:8080/"
        },
        "outputId": "f5c82bb1-824f-4b70-9ee1-eac8563c07ef"
      },
      "execution_count": 3,
      "outputs": [
        {
          "output_type": "stream",
          "name": "stdout",
          "text": [
            "{'Bernasconi', 'Lotorto', 'El Allami', 'Muhammad', 'Dipace', 'Finessi', 'Leone', 'Milella', \"D'Arienzo\", 'Avasiloae', 'Neri', 'Geremicca'}\n"
          ]
        }
      ]
    },
    {
      "cell_type": "markdown",
      "source": [
        "4. Quali sono gli studenti che non sono stati interrogati in nessuna materia?"
      ],
      "metadata": {
        "id": "ZaUPieRlNV_c"
      }
    },
    {
      "cell_type": "code",
      "source": [
        "print(studenti.difference(interrogatiInformatica,interrogatiSistemi,interrogatiTecnologie))"
      ],
      "metadata": {
        "id": "joYYsQtaNZwt",
        "colab": {
          "base_uri": "https://localhost:8080/"
        },
        "outputId": "6e2c10d0-b05e-4631-c8c1-6edfd244e291"
      },
      "execution_count": 4,
      "outputs": [
        {
          "output_type": "stream",
          "name": "stdout",
          "text": [
            "{'Bernasconi', 'Lotorto', 'Muhammad', 'Leone', 'Milella', 'Avasiloae'}\n"
          ]
        }
      ]
    },
    {
      "cell_type": "markdown",
      "source": [
        "5. Quali sono gli studenti che sono stati interrogati in Informatica ma non in Tecnologie?"
      ],
      "metadata": {
        "id": "9HyaVoK0NaET"
      }
    },
    {
      "cell_type": "code",
      "source": [
        "print(interrogatiInformatica.difference(interrogatiTecnologie))"
      ],
      "metadata": {
        "id": "PDVNMpQzNeUy",
        "colab": {
          "base_uri": "https://localhost:8080/"
        },
        "outputId": "4c2313a4-9cb9-4f26-b115-4802e13227a0"
      },
      "execution_count": 5,
      "outputs": [
        {
          "output_type": "stream",
          "name": "stdout",
          "text": [
            "{'Poliseno', 'Papes'}\n"
          ]
        }
      ]
    },
    {
      "cell_type": "markdown",
      "source": [
        "6. Gli studenti che sono stati interrogati in Sistemi sono stati anche (tutti) interrogati in Tecnologie? (cercare su internet...)"
      ],
      "metadata": {
        "id": "jYC1u7qzNe2L"
      }
    },
    {
      "cell_type": "code",
      "source": [
        "print(interrogatiSistemi.issubset(interrogatiTecnologie))"
      ],
      "metadata": {
        "id": "TCK9UZ2RNkZ7",
        "colab": {
          "base_uri": "https://localhost:8080/"
        },
        "outputId": "4603cd5e-9643-46fa-9fac-be924f21ddbb"
      },
      "execution_count": 76,
      "outputs": [
        {
          "output_type": "stream",
          "name": "stdout",
          "text": [
            "False\n"
          ]
        }
      ]
    },
    {
      "cell_type": "markdown",
      "source": [
        "Prendere in considerazione la seguente lista di dizionari, contenente una serie di clienti di un importante negozio di articoli per biciclette:\n",
        "\n"
      ],
      "metadata": {
        "id": "jNA3N49tNk6S"
      }
    },
    {
      "cell_type": "code",
      "source": [
        "clienti = [{'first_name': 'Debra',\n",
        "  'last_name': 'Burks',\n",
        "  'phone': None,\n",
        "  'email': 'debra.burks@yahoo.com',\n",
        "  'street': '9273 Thorne Ave. ',\n",
        "  'city': 'Orchard Park',\n",
        "  'state': 'NY',\n",
        "  'zip_code': '14127',\n",
        "  'total': 1900.00},\n",
        " {'first_name': 'Kasha',\n",
        "  'last_name': 'Todd',\n",
        "  'phone': None,\n",
        "  'email': 'kasha.todd@yahoo.com',\n",
        "  'street': '910 Vine Street ',\n",
        "  'city': 'Campbell',\n",
        "  'state': 'CA',\n",
        "  'zip_code': '95008',\n",
        "  'total': 900.00},\n",
        " {'first_name': 'Tameka',\n",
        "  'last_name': 'Fisher',\n",
        "  'phone': None,\n",
        "  'email': 'tameka.fisher@aol.com',\n",
        "  'street': '769C Honey Creek St. ',\n",
        "  'city': 'Redondo Beach',\n",
        "  'state': 'CA',\n",
        "  'zip_code': '90278',\n",
        "  'total': 90.00},\n",
        " {'first_name': 'Daryl',\n",
        "  'last_name': 'Spence',\n",
        "  'phone': None,\n",
        "  'email': 'daryl.spence@aol.com',\n",
        "  'street': '988 Pearl Lane ',\n",
        "  'city': 'Uniondale',\n",
        "  'state': 'NY',\n",
        "  'zip_code': '11553',\n",
        "  'total': 9030.00},\n",
        " {'first_name': 'Charolette',\n",
        "  'last_name': 'Rice',\n",
        "  'phone': '(916) 381-6003',\n",
        "  'email': 'charolette.rice@msn.com',\n",
        "  'street': '107 River Dr. ',\n",
        "  'city': 'Sacramento',\n",
        "  'state': 'CA',\n",
        "  'zip_code': '95820',\n",
        "  'total': 9008.00},\n",
        " {'first_name': 'Lyndsey',\n",
        "  'last_name': 'Bean',\n",
        "  'phone': None,\n",
        "  'email': 'lyndsey.bean@hotmail.com',\n",
        "  'street': '769 West Road ',\n",
        "  'city': 'Fairport',\n",
        "  'state': 'NY',\n",
        "  'zip_code': '14450',\n",
        "  'total': 2900.90},\n",
        " {'first_name': 'Latasha',\n",
        "  'last_name': 'Hays',\n",
        "  'phone': '(716) 986-3359',\n",
        "  'email': 'latasha.hays@hotmail.com',\n",
        "  'street': '7014 Manor Station Rd. ',\n",
        "  'city': 'Buffalo',\n",
        "  'state': 'NY',\n",
        "  'zip_code': '14215',\n",
        "  'total': 900.00},\n",
        " {'first_name': 'Jacquline',\n",
        "  'last_name': 'Duncan',\n",
        "  'phone': None,\n",
        "  'email': 'jacquline.duncan@yahoo.com',\n",
        "  'street': '15 Brown St. ',\n",
        "  'city': 'Jackson Heights',\n",
        "  'state': 'NY',\n",
        "  'zip_code': '11372',\n",
        "  'total': 900.00},\n",
        " {'first_name': 'Genoveva',\n",
        "  'last_name': 'Baldwin',\n",
        "  'phone': None,\n",
        "  'email': 'genoveva.baldwin@msn.com',\n",
        "  'street': '8550 Spruce Drive ',\n",
        "  'city': 'Port Washington',\n",
        "  'state': 'NY',\n",
        "  'zip_code': '11050',\n",
        "  'total': 9000.00},\n",
        " {'first_name': 'Pamelia',\n",
        "  'last_name': 'Newman',\n",
        "  'phone': None,\n",
        "  'email': 'pamelia.newman@gmail.com',\n",
        "  'street': '476 Chestnut Ave. ',\n",
        "  'city': 'Monroe',\n",
        "  'state': 'NY',\n",
        "  'zip_code': '10950',\n",
        "  'total': 90.90},\n",
        " {'first_name': 'Deshawn',\n",
        "  'last_name': 'Mendoza',\n",
        "  'phone': None,\n",
        "  'email': 'deshawn.mendoza@yahoo.com',\n",
        "  'street': '8790 Cobblestone Street ',\n",
        "  'city': 'Monsey',\n",
        "  'state': 'NY',\n",
        "  'zip_code': '10952',\n",
        "  'total': 90.00},\n",
        " {'first_name': 'Robby',\n",
        "  'last_name': 'Sykes',\n",
        "  'phone': '(516) 583-7761',\n",
        "  'email': 'robby.sykes@hotmail.com',\n",
        "  'street': '486 Rock Maple Street ',\n",
        "  'city': 'Hempstead',\n",
        "  'state': 'NY',\n",
        "  'zip_code': '11550',\n",
        "  'total': 100.00},\n",
        " {'first_name': 'Lashawn',\n",
        "  'last_name': 'Ortiz',\n",
        "  'phone': None,\n",
        "  'email': 'lashawn.ortiz@msn.com',\n",
        "  'street': '27 Washington Rd. ',\n",
        "  'city': 'Longview',\n",
        "  'state': 'TX',\n",
        "  'zip_code': '75604',\n",
        "  'total': 900.00},\n",
        " {'first_name': 'Garry',\n",
        "  'last_name': 'Espinoza',\n",
        "  'phone': None,\n",
        "  'email': 'garry.espinoza@hotmail.com',\n",
        "  'street': '7858 Rockaway Court ',\n",
        "  'city': 'Forney',\n",
        "  'state': 'TX',\n",
        "  'zip_code': '75126',\n",
        "  'total': 3900.00},\n",
        " {'first_name': 'Linnie',\n",
        "  'last_name': 'Branch',\n",
        "  'phone': None,\n",
        "  'email': 'linnie.branch@gmail.com',\n",
        "  'street': '314 South Columbia Ave. ',\n",
        "  'city': 'Plattsburgh',\n",
        "  'state': 'NY',\n",
        "  'zip_code': '12901',\n",
        "  'total': 90087.00},\n",
        " {'first_name': 'Emmitt',\n",
        "  'last_name': 'Sanchez',\n",
        "  'phone': '(212) 945-8823',\n",
        "  'email': 'emmitt.sanchez@hotmail.com',\n",
        "  'street': '461 Squaw Creek Road ',\n",
        "  'city': 'New York',\n",
        "  'state': 'NY',\n",
        "  'zip_code': '10002',\n",
        "  'total': 2900.00},\n",
        " {'first_name': 'Caren',\n",
        "  'last_name': 'Stephens',\n",
        "  'phone': None,\n",
        "  'email': 'caren.stephens@msn.com',\n",
        "  'street': '914 Brook St. ',\n",
        "  'city': 'Scarsdale',\n",
        "  'state': 'NY',\n",
        "  'zip_code': '10583',\n",
        "  'total': 900.00},\n",
        " {'first_name': 'Georgetta',\n",
        "  'last_name': 'Hardin',\n",
        "  'phone': None,\n",
        "  'email': 'georgetta.hardin@aol.com',\n",
        "  'street': '474 Chapel Dr. ',\n",
        "  'city': 'Canandaigua',\n",
        "  'state': 'NY',\n",
        "  'zip_code': '14424',\n",
        "  'total': 900.00},\n",
        " {'first_name': 'Lizzette',\n",
        "  'last_name': 'Stein',\n",
        "  'phone': None,\n",
        "  'email': 'lizzette.stein@yahoo.com',\n",
        "  'street': '19 Green Hill Lane ',\n",
        "  'city': 'Orchard Park',\n",
        "  'state': 'NY',\n",
        "  'zip_code': '14127',\n",
        "  'total': 9.00},\n",
        " {'first_name': 'Aleta',\n",
        "  'last_name': 'Shepard',\n",
        "  'phone': None,\n",
        "  'email': 'aleta.shepard@aol.com',\n",
        "  'street': '684 Howard St. ',\n",
        "  'city': 'Sugar Land',\n",
        "  'state': 'TX',\n",
        "  'zip_code': '77478',\n",
        "  'total': 999.00}]\n",
        "\n",
        "print(clienti)"
      ],
      "metadata": {
        "colab": {
          "base_uri": "https://localhost:8080/"
        },
        "id": "fuwHsPoCOSaa",
        "outputId": "ebd71b45-978b-4589-a5b5-6d88b82a3aab"
      },
      "execution_count": 6,
      "outputs": [
        {
          "output_type": "stream",
          "name": "stdout",
          "text": [
            "[{'first_name': 'Debra', 'last_name': 'Burks', 'phone': None, 'email': 'debra.burks@yahoo.com', 'street': '9273 Thorne Ave. ', 'city': 'Orchard Park', 'state': 'NY', 'zip_code': '14127', 'total': 1900.0}, {'first_name': 'Kasha', 'last_name': 'Todd', 'phone': None, 'email': 'kasha.todd@yahoo.com', 'street': '910 Vine Street ', 'city': 'Campbell', 'state': 'CA', 'zip_code': '95008', 'total': 900.0}, {'first_name': 'Tameka', 'last_name': 'Fisher', 'phone': None, 'email': 'tameka.fisher@aol.com', 'street': '769C Honey Creek St. ', 'city': 'Redondo Beach', 'state': 'CA', 'zip_code': '90278', 'total': 90.0}, {'first_name': 'Daryl', 'last_name': 'Spence', 'phone': None, 'email': 'daryl.spence@aol.com', 'street': '988 Pearl Lane ', 'city': 'Uniondale', 'state': 'NY', 'zip_code': '11553', 'total': 9030.0}, {'first_name': 'Charolette', 'last_name': 'Rice', 'phone': '(916) 381-6003', 'email': 'charolette.rice@msn.com', 'street': '107 River Dr. ', 'city': 'Sacramento', 'state': 'CA', 'zip_code': '95820', 'total': 9008.0}, {'first_name': 'Lyndsey', 'last_name': 'Bean', 'phone': None, 'email': 'lyndsey.bean@hotmail.com', 'street': '769 West Road ', 'city': 'Fairport', 'state': 'NY', 'zip_code': '14450', 'total': 2900.9}, {'first_name': 'Latasha', 'last_name': 'Hays', 'phone': '(716) 986-3359', 'email': 'latasha.hays@hotmail.com', 'street': '7014 Manor Station Rd. ', 'city': 'Buffalo', 'state': 'NY', 'zip_code': '14215', 'total': 900.0}, {'first_name': 'Jacquline', 'last_name': 'Duncan', 'phone': None, 'email': 'jacquline.duncan@yahoo.com', 'street': '15 Brown St. ', 'city': 'Jackson Heights', 'state': 'NY', 'zip_code': '11372', 'total': 900.0}, {'first_name': 'Genoveva', 'last_name': 'Baldwin', 'phone': None, 'email': 'genoveva.baldwin@msn.com', 'street': '8550 Spruce Drive ', 'city': 'Port Washington', 'state': 'NY', 'zip_code': '11050', 'total': 9000.0}, {'first_name': 'Pamelia', 'last_name': 'Newman', 'phone': None, 'email': 'pamelia.newman@gmail.com', 'street': '476 Chestnut Ave. ', 'city': 'Monroe', 'state': 'NY', 'zip_code': '10950', 'total': 90.9}, {'first_name': 'Deshawn', 'last_name': 'Mendoza', 'phone': None, 'email': 'deshawn.mendoza@yahoo.com', 'street': '8790 Cobblestone Street ', 'city': 'Monsey', 'state': 'NY', 'zip_code': '10952', 'total': 90.0}, {'first_name': 'Robby', 'last_name': 'Sykes', 'phone': '(516) 583-7761', 'email': 'robby.sykes@hotmail.com', 'street': '486 Rock Maple Street ', 'city': 'Hempstead', 'state': 'NY', 'zip_code': '11550', 'total': 100.0}, {'first_name': 'Lashawn', 'last_name': 'Ortiz', 'phone': None, 'email': 'lashawn.ortiz@msn.com', 'street': '27 Washington Rd. ', 'city': 'Longview', 'state': 'TX', 'zip_code': '75604', 'total': 900.0}, {'first_name': 'Garry', 'last_name': 'Espinoza', 'phone': None, 'email': 'garry.espinoza@hotmail.com', 'street': '7858 Rockaway Court ', 'city': 'Forney', 'state': 'TX', 'zip_code': '75126', 'total': 3900.0}, {'first_name': 'Linnie', 'last_name': 'Branch', 'phone': None, 'email': 'linnie.branch@gmail.com', 'street': '314 South Columbia Ave. ', 'city': 'Plattsburgh', 'state': 'NY', 'zip_code': '12901', 'total': 90087.0}, {'first_name': 'Emmitt', 'last_name': 'Sanchez', 'phone': '(212) 945-8823', 'email': 'emmitt.sanchez@hotmail.com', 'street': '461 Squaw Creek Road ', 'city': 'New York', 'state': 'NY', 'zip_code': '10002', 'total': 2900.0}, {'first_name': 'Caren', 'last_name': 'Stephens', 'phone': None, 'email': 'caren.stephens@msn.com', 'street': '914 Brook St. ', 'city': 'Scarsdale', 'state': 'NY', 'zip_code': '10583', 'total': 900.0}, {'first_name': 'Georgetta', 'last_name': 'Hardin', 'phone': None, 'email': 'georgetta.hardin@aol.com', 'street': '474 Chapel Dr. ', 'city': 'Canandaigua', 'state': 'NY', 'zip_code': '14424', 'total': 900.0}, {'first_name': 'Lizzette', 'last_name': 'Stein', 'phone': None, 'email': 'lizzette.stein@yahoo.com', 'street': '19 Green Hill Lane ', 'city': 'Orchard Park', 'state': 'NY', 'zip_code': '14127', 'total': 9.0}, {'first_name': 'Aleta', 'last_name': 'Shepard', 'phone': None, 'email': 'aleta.shepard@aol.com', 'street': '684 Howard St. ', 'city': 'Sugar Land', 'state': 'TX', 'zip_code': '77478', 'total': 999.0}]\n"
          ]
        }
      ]
    },
    {
      "cell_type": "markdown",
      "source": [
        "1. visualizzare tutte le informazioni dei clienti che abitano in California"
      ],
      "metadata": {
        "id": "NcuT9BdAOl5Z"
      }
    },
    {
      "cell_type": "code",
      "source": [
        "for cliente in clienti:\n",
        "  if cliente.get(\"state\") == \"CA\":\n",
        "    print(cliente)"
      ],
      "metadata": {
        "id": "bIeh6kz-OrIP",
        "colab": {
          "base_uri": "https://localhost:8080/"
        },
        "outputId": "84d798c9-8484-4a97-a0c1-498011c6c6c1"
      },
      "execution_count": 7,
      "outputs": [
        {
          "output_type": "stream",
          "name": "stdout",
          "text": [
            "{'first_name': 'Kasha', 'last_name': 'Todd', 'phone': None, 'email': 'kasha.todd@yahoo.com', 'street': '910 Vine Street ', 'city': 'Campbell', 'state': 'CA', 'zip_code': '95008', 'total': 900.0}\n",
            "{'first_name': 'Tameka', 'last_name': 'Fisher', 'phone': None, 'email': 'tameka.fisher@aol.com', 'street': '769C Honey Creek St. ', 'city': 'Redondo Beach', 'state': 'CA', 'zip_code': '90278', 'total': 90.0}\n",
            "{'first_name': 'Charolette', 'last_name': 'Rice', 'phone': '(916) 381-6003', 'email': 'charolette.rice@msn.com', 'street': '107 River Dr. ', 'city': 'Sacramento', 'state': 'CA', 'zip_code': '95820', 'total': 9008.0}\n"
          ]
        }
      ]
    },
    {
      "cell_type": "markdown",
      "source": [
        "2. visualizzare le informazioni di un cliente di cui si inserisce la mail"
      ],
      "metadata": {
        "id": "rgR0DZB_OrgA"
      }
    },
    {
      "cell_type": "code",
      "source": [
        "input1 = input(\"Inserire l'email della persona sulla quale lei vuole vedere informaziono: \")\n",
        "\n",
        "for cliente in clienti:\n",
        "  if cliente.get(\"email\") == input1:\n",
        "    print(cliente)"
      ],
      "metadata": {
        "id": "2-Nx0Hk7OyF8",
        "colab": {
          "base_uri": "https://localhost:8080/"
        },
        "outputId": "dc43dcc4-b152-49ac-f387-3b7beacb6668"
      },
      "execution_count": 9,
      "outputs": [
        {
          "output_type": "stream",
          "name": "stdout",
          "text": [
            "Inserire l'email della persona sulla quale lei vuole vedere informaziono: tameka.fisher@aol.com\n",
            "{'first_name': 'Tameka', 'last_name': 'Fisher', 'phone': None, 'email': 'tameka.fisher@aol.com', 'street': '769C Honey Creek St. ', 'city': 'Redondo Beach', 'state': 'CA', 'zip_code': '90278', 'total': 90.0}\n"
          ]
        }
      ]
    },
    {
      "cell_type": "markdown",
      "source": [
        "3. contare il numero di clienti presenti "
      ],
      "metadata": {
        "id": "raOzr_dBOydf"
      }
    },
    {
      "cell_type": "code",
      "source": [
        "print(len(clienti))"
      ],
      "metadata": {
        "id": "K1rr_Y3VO0vP",
        "colab": {
          "base_uri": "https://localhost:8080/"
        },
        "outputId": "1f3d0eac-72d2-4103-926e-c8e79078a60d"
      },
      "execution_count": 14,
      "outputs": [
        {
          "output_type": "stream",
          "name": "stdout",
          "text": [
            "20\n"
          ]
        }
      ]
    },
    {
      "cell_type": "markdown",
      "source": [
        "4. visualizzare il nome del cliente che ha speso di più"
      ],
      "metadata": {
        "id": "cVOvYV-IO1Kn"
      }
    },
    {
      "cell_type": "code",
      "source": [
        "listaTotali = [clienti[i][\"total\"] for i in range(len(clienti))]\n",
        "for cliente in clienti:\n",
        "  if max(listaTotali) == cliente[\"total\"]:\n",
        "    print(cliente[\"first_name\"], cliente[\"last_name\"])"
      ],
      "metadata": {
        "id": "Vb_1KfF2QWk8",
        "colab": {
          "base_uri": "https://localhost:8080/"
        },
        "outputId": "5900b771-d3cd-43a5-f4b3-4581365a7af7"
      },
      "execution_count": 22,
      "outputs": [
        {
          "output_type": "stream",
          "name": "stdout",
          "text": [
            "Linnie Branch\n"
          ]
        }
      ]
    },
    {
      "cell_type": "markdown",
      "source": [
        "5. visualizzare i clienti che hanno speso più di 2000 $"
      ],
      "metadata": {
        "id": "hXfHHRvxQW3f"
      }
    },
    {
      "cell_type": "code",
      "source": [
        "for cliente in clienti:\n",
        "  if cliente[\"total\"] > 2000:\n",
        "    print(cliente[\"first_name\"], cliente[\"last_name\"])"
      ],
      "metadata": {
        "id": "Xn_lY9u-Qbmo",
        "colab": {
          "base_uri": "https://localhost:8080/"
        },
        "outputId": "b42c2c9d-7db0-48e4-c956-5e2e1e1d9d52"
      },
      "execution_count": 26,
      "outputs": [
        {
          "output_type": "stream",
          "name": "stdout",
          "text": [
            "Daryl Spence\n",
            "Charolette Rice\n",
            "Lyndsey Bean\n",
            "Genoveva Baldwin\n",
            "Garry Espinoza\n",
            "Linnie Branch\n",
            "Emmitt Sanchez\n"
          ]
        }
      ]
    },
    {
      "cell_type": "markdown",
      "source": [
        "6. visualizzare gli stati dei clienti che hanno speso più di 2000 $ senza ripetizioni"
      ],
      "metadata": {
        "id": "oL53wVJbQcLj"
      }
    },
    {
      "cell_type": "code",
      "source": [
        "stati = []\n",
        "for cliente in clienti:\n",
        "  if cliente[\"total\"] > 2000 and not cliente[\"state\"] in stati:\n",
        "    stati.append(cliente[\"state\"])\n",
        "    print(cliente[\"first_name\"], cliente[\"last_name\"], cliente[\"state\"])\n",
        "# fatta alla visual basic"
      ],
      "metadata": {
        "id": "eZO7ttcAQyJ-",
        "colab": {
          "base_uri": "https://localhost:8080/"
        },
        "outputId": "9fb586ac-e000-4631-d141-2f4ea7c93cda"
      },
      "execution_count": 41,
      "outputs": [
        {
          "output_type": "stream",
          "name": "stdout",
          "text": [
            "Daryl Spence NY\n",
            "Charolette Rice CA\n",
            "Garry Espinoza TX\n"
          ]
        }
      ]
    },
    {
      "cell_type": "markdown",
      "source": [
        "Prendere in considerazione la lista nomi=['maria', 'stefano', 'anna', 'carlo'] e la lista cognomi = ['rossi', 'bianchi', 'verdi', 'neri']. Scrivere il codice per creare da queste due liste una lista di dizionari aventi come chiavi nome e cognome (google it...)"
      ],
      "metadata": {
        "id": "L7d8r8-GQyn4"
      }
    },
    {
      "cell_type": "code",
      "source": [
        "nomi = [\"maria\", \"stefano\", \"anna\", \"carlo\"]\n",
        "cognomi = [\"rossi\", \"bianchi\", \"verdi\", \"neri\"]\n",
        "dictionary = dict(zip(nomi,cognomi))\n",
        "print(dictionary)\n",
        "#non finito"
      ],
      "metadata": {
        "id": "53QgMjSRRNWX",
        "colab": {
          "base_uri": "https://localhost:8080/"
        },
        "outputId": "f418c1eb-fb4e-4a43-ae7e-73bfe036a813"
      },
      "execution_count": 77,
      "outputs": [
        {
          "output_type": "stream",
          "name": "stdout",
          "text": [
            "{'maria': 'rossi', 'stefano': 'bianchi', 'anna': 'verdi', 'carlo': 'neri'}\n"
          ]
        }
      ]
    }
  ]
}