{
  "nbformat": 4,
  "nbformat_minor": 0,
  "metadata": {
    "colab": {
      "provenance": [],
      "collapsed_sections": [],
      "authorship_tag": "ABX9TyOEE6SURH00ttwnptfCEu8k",
      "include_colab_link": true
    },
    "kernelspec": {
      "name": "python3",
      "display_name": "Python 3"
    },
    "language_info": {
      "name": "python"
    }
  },
  "cells": [
    {
      "cell_type": "markdown",
      "metadata": {
        "id": "view-in-github",
        "colab_type": "text"
      },
      "source": [
        "<a href=\"https://colab.research.google.com/github/CottoneEnrico/python/blob/main/python.ipynb\" target=\"_parent\"><img src=\"https://colab.research.google.com/assets/colab-badge.svg\" alt=\"Open In Colab\"/></a>"
      ]
    },
    {
      "cell_type": "markdown",
      "source": [
        "Python è un linguaggio interpretato"
      ],
      "metadata": {
        "id": "vRKmCzFCFewL"
      }
    },
    {
      "cell_type": "code",
      "execution_count": null,
      "metadata": {
        "id": "pQBwM1KTCTmA"
      },
      "outputs": [],
      "source": [
        "# Variables\n",
        "\n",
        "x = 0\n",
        "\n",
        "# Code\n",
        "\n",
        "for x in range(10):\n",
        "  x+=1\n",
        "  print(x)"
      ]
    },
    {
      "cell_type": "code",
      "source": [
        "a = 10\n",
        "b = 20\n",
        "c = 10.5\n",
        "\n",
        "print(a,b,c)"
      ],
      "metadata": {
        "colab": {
          "base_uri": "https://localhost:8080/"
        },
        "id": "amE_6SkwFa9x",
        "outputId": "f4701598-35d0-44d4-8e02-37ffee7722a0"
      },
      "execution_count": null,
      "outputs": [
        {
          "output_type": "stream",
          "name": "stdout",
          "text": [
            "10 20 10.5\n"
          ]
        }
      ]
    },
    {
      "cell_type": "code",
      "source": [
        "total = a + b - c\n",
        "multiplied = a * b * c\n",
        "print(\"Il totale è: \" + str(total))\n",
        "print(\"Il totale multiplicato è: \" + str(multiplied))"
      ],
      "metadata": {
        "colab": {
          "base_uri": "https://localhost:8080/"
        },
        "id": "LzFMyUCmFxbF",
        "outputId": "e5271089-1d30-42b9-f662-7473d7e42540"
      },
      "execution_count": null,
      "outputs": [
        {
          "output_type": "stream",
          "name": "stdout",
          "text": [
            "Il totale è: 19.5\n",
            "Il totale multiplicato è: 2100.0\n"
          ]
        }
      ]
    },
    {
      "cell_type": "code",
      "source": [
        "# Inserimento dei dati\n",
        "\n",
        "peso = input(\"Qual'è il tuo peso? \")\n",
        "altezza = input(\"Qual'è la tua altezza? \")\n",
        "\n",
        "peso = float(peso)\n",
        "altezza = float(altezza)\n",
        "\n",
        "massaCorporea = peso / (altezza * altezza)\n",
        "massaCorporea = str(round(massaCorporea))\n",
        "\n",
        "print(\"Il tuo indice di massa corporea è:\", massaCorporea)\n",
        "\n",
        "massaCorporea = int(massaCorporea)\n",
        "\n",
        "if massaCorporea < 18:\n",
        "  print(\"Sottopeso\")\n",
        "elif massaCorporea > 25:\n",
        "  print(\"Sovrappeso\")\n",
        "else:\n",
        "  print(\"Nella norma\")"
      ],
      "metadata": {
        "colab": {
          "base_uri": "https://localhost:8080/"
        },
        "id": "IZPGFdN5GfJ2",
        "outputId": "6aee9819-051d-4651-e3aa-7e858df215b5"
      },
      "execution_count": null,
      "outputs": [
        {
          "output_type": "stream",
          "name": "stdout",
          "text": [
            "Qual'è il tuo peso? 51\n",
            "Qual'è la tua altezza? 1.65\n",
            "Il tuo indice di massa corporea è: 19\n",
            "Nella norma\n"
          ]
        }
      ]
    },
    {
      "cell_type": "code",
      "source": [
        "# Scrivere un programma che calcoli le tasse da pagare\n",
        "# Se il redito è inferiore a 30.000€ si paga il 15%, se il redito è compreso tra 30.000€ a 60.000€ si paga 20%, se il redito è superiore a 60.000€ si paga 30%\n",
        "\n",
        "reddito = input(\"Qual'è il tuo reddito? \")\n",
        "reddito = int(reddito)\n",
        "if reddito < 30000:\n",
        "  reddito = (reddito / 100) * 15\n",
        "elif reddito > 30000 and reddito < 60000:\n",
        "  reddito = (reddito / 100) * 20\n",
        "elif reddito > 60000:\n",
        "  reddito = (reddito / 100) * 30\n",
        "\n",
        "print(\"Le tasse che devi sfortunatamente pagare equivalgono a: \" + str(reddito))"
      ],
      "metadata": {
        "colab": {
          "base_uri": "https://localhost:8080/"
        },
        "id": "oGKbKu6lPC5R",
        "outputId": "d1a16e00-2550-4edd-81cb-58da57f59509"
      },
      "execution_count": null,
      "outputs": [
        {
          "output_type": "stream",
          "name": "stdout",
          "text": [
            "Qual'è il tuo reddito? 7000\n",
            "Le tasse che devi sfortunatamente pagare equivalgono a: 1050.0\n"
          ]
        }
      ]
    },
    {
      "cell_type": "code",
      "source": [
        "# Un negozio vuole incentivare gli acquisti applicando sconti maggiori a chi spende di più\n",
        "# Se un cliente spende fino a 100€ deve essere fatto lo sconto del 15%\n",
        "# Se spende da 200€ a 300€ lo sconto è del 40%\n",
        "# Se spende oltre 400€ lo sconto è del 60%\n",
        "\n",
        "# Scrivere un programma che dato il totale dell'acquiesto calcoli il prezzo finale che il cliente deve pagare.\n",
        "\n",
        "spentMoney = input(\"Inserisci la quantità di soldi che spenderai: \")\n",
        "spentMoney = float(spentMoney)\n",
        "discount = 0\n",
        "\n",
        "if spentMoney < 100:\n",
        "  discount = ((spentMoney / 100) * 15) # 15% off\n",
        "  spentMoney -= discount\n",
        "elif spentMoney >= 100 and spentMoney < 200:\n",
        "  discount = ((spentMoney / 100) * 20) # 20% off\n",
        "  spentMoney -= discount\n",
        "elif spentMoney >= 200 and spentMoney <= 300:\n",
        "  discount = ((spentMoney / 100) * 40) # 40% off\n",
        "  spentMoney -= discount\n",
        "elif spentMoney >= 400:\n",
        "  discount = ((spentMoney / 100) * 60) # 60% off\n",
        "  spentMoney -= discount\n",
        "\n",
        "print(\"Il totale da pagare sarà \" + str(spentMoney))"
      ],
      "metadata": {
        "id": "_PlzAmYzQrah",
        "colab": {
          "base_uri": "https://localhost:8080/"
        },
        "outputId": "3da135d5-a5a8-4e14-a863-5e3d1f06f651"
      },
      "execution_count": null,
      "outputs": [
        {
          "output_type": "stream",
          "name": "stdout",
          "text": [
            "Inserisci la quantità di soldi che spenderai: 500\n",
            "Il totale da pagare sarà 200.0\n"
          ]
        }
      ]
    }
  ]
}
