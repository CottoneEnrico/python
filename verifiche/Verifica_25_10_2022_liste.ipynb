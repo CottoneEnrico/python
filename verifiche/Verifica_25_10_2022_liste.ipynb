{
  "nbformat": 4,
  "nbformat_minor": 0,
  "metadata": {
    "colab": {
      "provenance": [],
      "collapsed_sections": []
    },
    "kernelspec": {
      "name": "python3",
      "display_name": "Python 3"
    },
    "language_info": {
      "name": "python"
    }
  },
  "cells": [
    {
      "cell_type": "markdown",
      "source": [
        "##Verifica numero 3"
      ],
      "metadata": {
        "id": "htrrCGAgZXb5"
      }
    },
    {
      "cell_type": "code",
      "source": [
        "\"\"\"\n",
        "Esercizio 1\n",
        "\n",
        "Caricare in una opportuna struttura dati delle province della Lombardia e scrivere il codice Python necessario per rispondere alle seguenti richieste:\n",
        "\n",
        "1. Ordinare i nomi delle province in ordine alfabetico e visualizzarli\n",
        "2. Visualizzare i nomi delle ultime tre province\n",
        "3. Cercare in quale posizione si trova la provincia di Milano nell'elenco\n",
        "4. Visualizzare il nome di una provincia a caso (tramite codice)\n",
        "5. Visualizzare il nome di tre province a caso (tramite codice). Fare in modo che i nomi delle province non possano presentarsi più volte\n",
        "\"\"\"\n",
        "import random\n",
        "\n",
        "province = [\"Bergamo\", \"Brescia\", \"Cremona\", \"Como\", \"Lecco\", \"Lodi\", \"Mantova\", \"Milano\", \"Monza e della Brianza\", \"Pavia\", \"Sondrio\", \"Varese\"]\n",
        "province.sort()\n",
        "print(province)\n",
        "\n",
        "print(province[-3:])\n",
        "\n",
        "print(province.index(\"Milano\"))\n",
        "\n",
        "print(random.choice(province))\n",
        "\n",
        "\n",
        "print(random.sample(province, 3))"
      ],
      "metadata": {
        "colab": {
          "base_uri": "https://localhost:8080/"
        },
        "id": "87uLCEspZcxg",
        "outputId": "9d4c0706-2967-4c82-90f5-28ea76f1dc6e"
      },
      "execution_count": 1,
      "outputs": [
        {
          "output_type": "stream",
          "name": "stdout",
          "text": [
            "['Bergamo', 'Brescia', 'Como', 'Cremona', 'Lecco', 'Lodi', 'Mantova', 'Milano', 'Monza e della Brianza', 'Pavia', 'Sondrio', 'Varese']\n",
            "['Pavia', 'Sondrio', 'Varese']\n",
            "7\n",
            "Mantova\n",
            "['Como', 'Monza e della Brianza', 'Brescia']\n"
          ]
        }
      ]
    },
    {
      "cell_type": "code",
      "source": [
        "\"\"\"\n",
        "Esercizio 2\n",
        "\n",
        "1. Caricare una lista con i primi 50 multipli di 5\n",
        "2. Caricare in una nuova lista solo i multipli di 10\n",
        "3. Eliminare dalla seconda lista tutti i valori compresi tra 30 e 60. Visualizzare il numero di elementi rimasti nella lista e il numeri di quelli eliminati\n",
        "4. Caricare in una nuova lista i 5 elementi centrali\n",
        "5. Moltiplicare per 10 tutti i numeri della lista precedente\n",
        "6. Mettere in un'unica lista tutti i valori presenti nelle liste precedentemente create.\n",
        "\"\"\"\n",
        "from statistics import mean\n",
        "\n",
        "lista1 = [5 * index for index in range(1, 51)]\n",
        "print(lista1)\n",
        "\n",
        "#lista2 = [10 * index for index in lista1 if index % 10 == 0]\n",
        "lista2 = [index for index in lista1 if index % 10 == 0]\n",
        "\n",
        "print(lista2)\n",
        "count = 0\n",
        "for index in lista2:\n",
        "  if index > 30 and index < 60:\n",
        "    lista2.remove(index)\n",
        "    count += 1\n",
        "print(lista2)\n",
        "print(\"Dalla lista due sono stati eliminati\",count,\"elementi\")\n",
        "\n",
        "lista3 = []\n",
        "\n",
        "first_middle = int(len(lista2) / 2)\n",
        "second_middle = int(len(lista2) / 2) - 1\n",
        "third_middle = int(len(lista2) / 2) - 2\n",
        "fourth_middle = int(len(lista2) / 2) + 1\n",
        "fifth_middle = int(len(lista2) / 2) + 2\n",
        "\n",
        "lista3.append(lista2[first_middle])\n",
        "lista3.append(lista2[second_middle])\n",
        "lista3.append(lista2[third_middle])\n",
        "lista3.append(lista2[fourth_middle])\n",
        "lista3.append(lista2[fifth_middle])\n",
        "\n",
        "print(lista2[first_middle])  # 140\n",
        "print(lista2[second_middle]) # 130\n",
        "print(lista2[third_middle])  # 120\n",
        "print(lista2[fourth_middle]) # 150\n",
        "print(lista2[fifth_middle])  # 160\n",
        "\n",
        "print(lista3)\n",
        "\n",
        "risultato = [index * 10 for index in lista3]\n",
        "print(risultato)\n",
        "\n",
        "lista4 = [lista1,lista2,lista3]\n",
        "print(lista4)"
      ],
      "metadata": {
        "colab": {
          "base_uri": "https://localhost:8080/"
        },
        "id": "dLCQwkVJaSOQ",
        "outputId": "ffc69e3a-78dd-42de-9944-87ffbe35f06b"
      },
      "execution_count": 4,
      "outputs": [
        {
          "output_type": "stream",
          "name": "stdout",
          "text": [
            "[5, 10, 15, 20, 25, 30, 35, 40, 45, 50, 55, 60, 65, 70, 75, 80, 85, 90, 95, 100, 105, 110, 115, 120, 125, 130, 135, 140, 145, 150, 155, 160, 165, 170, 175, 180, 185, 190, 195, 200, 205, 210, 215, 220, 225, 230, 235, 240, 245, 250]\n",
            "[10, 20, 30, 40, 50, 60, 70, 80, 90, 100, 110, 120, 130, 140, 150, 160, 170, 180, 190, 200, 210, 220, 230, 240, 250]\n",
            "[10, 20, 30, 50, 60, 70, 80, 90, 100, 110, 120, 130, 140, 150, 160, 170, 180, 190, 200, 210, 220, 230, 240, 250]\n",
            "Dalla lista due sono stati eliminati 1 elementi\n",
            "140\n",
            "130\n",
            "120\n",
            "150\n",
            "160\n",
            "[140, 130, 120, 150, 160]\n",
            "[1400, 1300, 1200, 1500, 1600]\n",
            "[[5, 10, 15, 20, 25, 30, 35, 40, 45, 50, 55, 60, 65, 70, 75, 80, 85, 90, 95, 100, 105, 110, 115, 120, 125, 130, 135, 140, 145, 150, 155, 160, 165, 170, 175, 180, 185, 190, 195, 200, 205, 210, 215, 220, 225, 230, 235, 240, 245, 250], [10, 20, 30, 50, 60, 70, 80, 90, 100, 110, 120, 130, 140, 150, 160, 170, 180, 190, 200, 210, 220, 230, 240, 250], [140, 130, 120, 150, 160]]\n"
          ]
        }
      ]
    }
  ]
}
