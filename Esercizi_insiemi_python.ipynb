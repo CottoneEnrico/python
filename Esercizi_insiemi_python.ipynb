{
  "nbformat": 4,
  "nbformat_minor": 0,
  "metadata": {
    "colab": {
      "provenance": [],
      "collapsed_sections": [],
      "authorship_tag": "ABX9TyNrgxi5srFy3AeIn0fjGn+7",
      "include_colab_link": true
    },
    "kernelspec": {
      "name": "python3",
      "display_name": "Python 3"
    },
    "language_info": {
      "name": "python"
    }
  },
  "cells": [
    {
      "cell_type": "markdown",
      "metadata": {
        "id": "view-in-github",
        "colab_type": "text"
      },
      "source": [
        "<a href=\"https://colab.research.google.com/github/CottoneEnrico/python/blob/main/Esercizi_insiemi_python.ipynb\" target=\"_parent\"><img src=\"https://colab.research.google.com/assets/colab-badge.svg\" alt=\"Open In Colab\"/></a>"
      ]
    },
    {
      "cell_type": "code",
      "execution_count": 29,
      "metadata": {
        "colab": {
          "base_uri": "https://localhost:8080/"
        },
        "id": "oXy6O8NLX1HJ",
        "outputId": "d2a8721b-3010-4e38-8d19-b5373a078c24"
      },
      "outputs": [
        {
          "output_type": "stream",
          "name": "stdout",
          "text": [
            "{'Juventus', 'Milan', 'Inter'}\n"
          ]
        }
      ],
      "source": [
        "# Insiemi python\n",
        "\n",
        "insieme = {\"Inter\", \"Milan\", \"Juventus\"}\n",
        "print(insieme)"
      ]
    },
    {
      "cell_type": "code",
      "source": [
        "insieme2 = {\"Ciao0\", \"Ciao1\", \"Ciao2\"}\n",
        "print(type(insieme2))"
      ],
      "metadata": {
        "colab": {
          "base_uri": "https://localhost:8080/"
        },
        "id": "0tGmWJL0YyFf",
        "outputId": "00bfdb76-0073-4089-8b05-f2c7f7400d87"
      },
      "execution_count": 30,
      "outputs": [
        {
          "output_type": "stream",
          "name": "stdout",
          "text": [
            "<class 'set'>\n"
          ]
        }
      ]
    },
    {
      "cell_type": "code",
      "source": [
        "# Altro metodo per insiemi\n",
        "\n",
        "insieme3 = set((\"Luca\", \"Riccardo\", \"Antonio\", \"Luca\"))\n",
        "print(insieme3)\n",
        "\n",
        "# Aggiungere un'elemento ad un'insieme\n",
        "insieme3.add(\"Ciaone\")\n",
        "print(insieme3)\n",
        "\n",
        "# Rimuovere un'elemento di un'insieme\n",
        "\n",
        "insieme3.remove(\"Ciaone\")\n",
        "print(insieme3)\n",
        "\n",
        "insieme3.pop()\n",
        "print(insieme3)\n",
        "\n",
        "insieme3.discard(\"Luca\")\n",
        "print(insieme3)"
      ],
      "metadata": {
        "colab": {
          "base_uri": "https://localhost:8080/"
        },
        "id": "DV30Bu_tYlEN",
        "outputId": "e8ba1a92-51e8-4a11-c340-cdb18b801ac6"
      },
      "execution_count": 35,
      "outputs": [
        {
          "output_type": "stream",
          "name": "stdout",
          "text": [
            "{'Riccardo', 'Antonio', 'Luca'}\n",
            "{'Riccardo', 'Antonio', 'Ciaone', 'Luca'}\n",
            "{'Riccardo', 'Antonio', 'Luca'}\n",
            "{'Antonio', 'Luca'}\n",
            "{'Antonio'}\n"
          ]
        }
      ]
    },
    {
      "cell_type": "code",
      "source": [
        "# Unire due insiemi\n",
        "print(insieme2.union(insieme3))"
      ],
      "metadata": {
        "colab": {
          "base_uri": "https://localhost:8080/"
        },
        "id": "IpLRRuguge0y",
        "outputId": "8dd277af-f896-4ca5-e3bc-a7976c5cf88b"
      },
      "execution_count": 36,
      "outputs": [
        {
          "output_type": "stream",
          "name": "stdout",
          "text": [
            "{'Antonio', 'Ciao1', 'Ciao0', 'Ciao2'}\n"
          ]
        }
      ]
    },
    {
      "cell_type": "code",
      "source": [
        "provaListComprehension = {i for i in range(1,101)}\n",
        "print(provaListComprehension)\n",
        "print(type(provaListComprehension))"
      ],
      "metadata": {
        "colab": {
          "base_uri": "https://localhost:8080/"
        },
        "id": "5iLq-S1WZWxJ",
        "outputId": "8823003d-e113-4807-d661-ee87ac0f6c2a"
      },
      "execution_count": 32,
      "outputs": [
        {
          "output_type": "stream",
          "name": "stdout",
          "text": [
            "{1, 2, 3, 4, 5, 6, 7, 8, 9, 10, 11, 12, 13, 14, 15, 16, 17, 18, 19, 20, 21, 22, 23, 24, 25, 26, 27, 28, 29, 30, 31, 32, 33, 34, 35, 36, 37, 38, 39, 40, 41, 42, 43, 44, 45, 46, 47, 48, 49, 50, 51, 52, 53, 54, 55, 56, 57, 58, 59, 60, 61, 62, 63, 64, 65, 66, 67, 68, 69, 70, 71, 72, 73, 74, 75, 76, 77, 78, 79, 80, 81, 82, 83, 84, 85, 86, 87, 88, 89, 90, 91, 92, 93, 94, 95, 96, 97, 98, 99, 100}\n",
            "<class 'set'>\n"
          ]
        }
      ]
    },
    {
      "cell_type": "code",
      "source": [
        "for i in provaListComprehension:\n",
        "  print(i)"
      ],
      "metadata": {
        "colab": {
          "base_uri": "https://localhost:8080/"
        },
        "id": "I5qlJxA6an34",
        "outputId": "60fd4f7d-7f50-4659-bdaf-a78476476fb2"
      },
      "execution_count": 33,
      "outputs": [
        {
          "output_type": "stream",
          "name": "stdout",
          "text": [
            "1\n",
            "2\n",
            "3\n",
            "4\n",
            "5\n",
            "6\n",
            "7\n",
            "8\n",
            "9\n",
            "10\n",
            "11\n",
            "12\n",
            "13\n",
            "14\n",
            "15\n",
            "16\n",
            "17\n",
            "18\n",
            "19\n",
            "20\n",
            "21\n",
            "22\n",
            "23\n",
            "24\n",
            "25\n",
            "26\n",
            "27\n",
            "28\n",
            "29\n",
            "30\n",
            "31\n",
            "32\n",
            "33\n",
            "34\n",
            "35\n",
            "36\n",
            "37\n",
            "38\n",
            "39\n",
            "40\n",
            "41\n",
            "42\n",
            "43\n",
            "44\n",
            "45\n",
            "46\n",
            "47\n",
            "48\n",
            "49\n",
            "50\n",
            "51\n",
            "52\n",
            "53\n",
            "54\n",
            "55\n",
            "56\n",
            "57\n",
            "58\n",
            "59\n",
            "60\n",
            "61\n",
            "62\n",
            "63\n",
            "64\n",
            "65\n",
            "66\n",
            "67\n",
            "68\n",
            "69\n",
            "70\n",
            "71\n",
            "72\n",
            "73\n",
            "74\n",
            "75\n",
            "76\n",
            "77\n",
            "78\n",
            "79\n",
            "80\n",
            "81\n",
            "82\n",
            "83\n",
            "84\n",
            "85\n",
            "86\n",
            "87\n",
            "88\n",
            "89\n",
            "90\n",
            "91\n",
            "92\n",
            "93\n",
            "94\n",
            "95\n",
            "96\n",
            "97\n",
            "98\n",
            "99\n",
            "100\n"
          ]
        }
      ]
    },
    {
      "cell_type": "code",
      "source": [
        "insieme = [1,4,5,6,7,10,1,4]\n",
        "\n",
        "print(insieme)\n",
        "\n"
      ],
      "metadata": {
        "colab": {
          "base_uri": "https://localhost:8080/"
        },
        "id": "hgKvK6WtiEdI",
        "outputId": "34c58064-d3e8-44d8-a85e-457e72035dec"
      },
      "execution_count": 38,
      "outputs": [
        {
          "output_type": "stream",
          "name": "stdout",
          "text": [
            "[1, 4, 5, 6, 7, 10, 1, 4]\n"
          ]
        }
      ]
    },
    {
      "cell_type": "code",
      "source": [
        "insieme = {\"pizza\", \"pasta\", \"carne\", \"pesce\"}\n",
        "print(insieme)\n",
        "insieme.add(\"hamburger\")\n",
        "print(insieme)"
      ],
      "metadata": {
        "colab": {
          "base_uri": "https://localhost:8080/"
        },
        "id": "wNQMHoboif6K",
        "outputId": "c880ea5e-45dc-4dfc-a412-3e1d4ef1be1d"
      },
      "execution_count": 39,
      "outputs": [
        {
          "output_type": "stream",
          "name": "stdout",
          "text": [
            "{'pesce', 'pizza', 'carne', 'pasta'}\n",
            "{'carne', 'pizza', 'pasta', 'pesce', 'hamburger'}\n"
          ]
        }
      ]
    },
    {
      "cell_type": "code",
      "source": [
        "insieme.clear()\n",
        "print(insieme)"
      ],
      "metadata": {
        "colab": {
          "base_uri": "https://localhost:8080/"
        },
        "id": "95Idehd0i1nn",
        "outputId": "85b47a8e-e510-494a-873a-3dd1ddea4d33"
      },
      "execution_count": 40,
      "outputs": [
        {
          "output_type": "stream",
          "name": "stdout",
          "text": [
            "set()\n"
          ]
        }
      ]
    },
    {
      "cell_type": "code",
      "source": [
        "import random\n",
        "\n",
        "insieme = set()\n",
        "for i in range(20):\n",
        "  insieme.add(random.randint(20, 50))\n",
        "print(insieme)"
      ],
      "metadata": {
        "colab": {
          "base_uri": "https://localhost:8080/"
        },
        "id": "gEjsTA1Zi-Od",
        "outputId": "b7a39f0c-97d8-4557-ab3b-9688ac444770"
      },
      "execution_count": 42,
      "outputs": [
        {
          "output_type": "stream",
          "name": "stdout",
          "text": [
            "{32, 36, 41, 42, 45, 46, 47, 20, 21, 22, 24, 25, 27, 28, 29}\n"
          ]
        }
      ]
    },
    {
      "cell_type": "code",
      "source": [
        "# Caricare in una lista 20 numeri casuali ed eliminare i duplicati\n",
        "\n",
        "lista = list(set([random.randint(1,100) for i in range(20)]))\n",
        "print(lista)"
      ],
      "metadata": {
        "colab": {
          "base_uri": "https://localhost:8080/"
        },
        "id": "yNo4PrA4j6aC",
        "outputId": "3ff56ba3-db18-4ad9-e276-574a4506bfdf"
      },
      "execution_count": 50,
      "outputs": [
        {
          "output_type": "stream",
          "name": "stdout",
          "text": [
            "[9, 11, 14, 15, 17, 31, 46, 48, 49, 54, 57, 60, 61, 63, 72, 76, 82, 90, 95, 98]\n"
          ]
        }
      ]
    },
    {
      "cell_type": "code",
      "source": [
        "# Dizionari\n",
        "\n"
      ],
      "metadata": {
        "id": "7WYi-exVoieE"
      },
      "execution_count": null,
      "outputs": []
    }
  ]
}