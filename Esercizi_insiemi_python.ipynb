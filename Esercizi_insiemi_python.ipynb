{
  "nbformat": 4,
  "nbformat_minor": 0,
  "metadata": {
    "colab": {
      "provenance": [],
      "authorship_tag": "ABX9TyOG87vmwCrctHioq7qCrVFk",
      "include_colab_link": true
    },
    "kernelspec": {
      "name": "python3",
      "display_name": "Python 3"
    },
    "language_info": {
      "name": "python"
    }
  },
  "cells": [
    {
      "cell_type": "markdown",
      "metadata": {
        "id": "view-in-github",
        "colab_type": "text"
      },
      "source": [
        "<a href=\"https://colab.research.google.com/github/CottoneEnrico/python/blob/main/Esercizi_insiemi_python.ipynb\" target=\"_parent\"><img src=\"https://colab.research.google.com/assets/colab-badge.svg\" alt=\"Open In Colab\"/></a>"
      ]
    },
    {
      "cell_type": "code",
      "execution_count": 11,
      "metadata": {
        "colab": {
          "base_uri": "https://localhost:8080/"
        },
        "id": "oXy6O8NLX1HJ",
        "outputId": "42004e30-7de3-4699-d47a-01b594f41dd4"
      },
      "outputs": [
        {
          "output_type": "stream",
          "name": "stdout",
          "text": [
            "{'Juventus', 'Milan', 'Inter'}\n"
          ]
        }
      ],
      "source": [
        "# Insiemi python\n",
        "\n",
        "insieme = {\"Inter\", \"Milan\", \"Juventus\"}\n",
        "print(insieme)"
      ]
    },
    {
      "cell_type": "code",
      "source": [
        "insieme2 = {\"Ciao0\", \"Ciao1\", \"Ciao2\"}\n",
        "print(type(insieme2))"
      ],
      "metadata": {
        "colab": {
          "base_uri": "https://localhost:8080/"
        },
        "id": "0tGmWJL0YyFf",
        "outputId": "df75b38e-acd3-4e5d-d46a-a798cc5b9edb"
      },
      "execution_count": 12,
      "outputs": [
        {
          "output_type": "stream",
          "name": "stdout",
          "text": [
            "<class 'set'>\n"
          ]
        }
      ]
    },
    {
      "cell_type": "code",
      "source": [
        "# Altro metodo per insiemi\n",
        "\n",
        "insieme3 = set((\"Luca\", \"Riccardo\", \"Antonio\", \"Luca\"))\n",
        "print(insieme3)\n",
        "\n",
        "# Aggiungere un'elemento ad un'insieme\n",
        "insieme3.add(\"Ciaone\")\n",
        "print(insieme3)\n",
        "\n",
        "# Rimuovere un'elemento di un'insieme\n",
        "\n",
        "insieme3.remove(\"Ciaone\")\n",
        "print(insieme3)\n",
        "\n",
        "insieme3.pop()\n",
        "print(insieme3)"
      ],
      "metadata": {
        "colab": {
          "base_uri": "https://localhost:8080/"
        },
        "id": "DV30Bu_tYlEN",
        "outputId": "43fab68f-d3f5-46eb-d3e2-1ae3d8c2922a"
      },
      "execution_count": 20,
      "outputs": [
        {
          "output_type": "stream",
          "name": "stdout",
          "text": [
            "{'Riccardo', 'Antonio', 'Luca'}\n",
            "{'Riccardo', 'Antonio', 'Ciaone', 'Luca'}\n",
            "{'Riccardo', 'Antonio', 'Luca'}\n",
            "{'Antonio', 'Luca'}\n"
          ]
        }
      ]
    },
    {
      "cell_type": "code",
      "source": [
        "provaListComprehension = {i for i in range(1,101)}\n",
        "print(provaListComprehension)\n",
        "print(type(provaListComprehension))"
      ],
      "metadata": {
        "colab": {
          "base_uri": "https://localhost:8080/"
        },
        "id": "5iLq-S1WZWxJ",
        "outputId": "034f7516-4c9f-4a01-bb14-cf320773aa40"
      },
      "execution_count": 27,
      "outputs": [
        {
          "output_type": "stream",
          "name": "stdout",
          "text": [
            "{1, 2, 3, 4, 5, 6, 7, 8, 9, 10, 11, 12, 13, 14, 15, 16, 17, 18, 19, 20, 21, 22, 23, 24, 25, 26, 27, 28, 29, 30, 31, 32, 33, 34, 35, 36, 37, 38, 39, 40, 41, 42, 43, 44, 45, 46, 47, 48, 49, 50, 51, 52, 53, 54, 55, 56, 57, 58, 59, 60, 61, 62, 63, 64, 65, 66, 67, 68, 69, 70, 71, 72, 73, 74, 75, 76, 77, 78, 79, 80, 81, 82, 83, 84, 85, 86, 87, 88, 89, 90, 91, 92, 93, 94, 95, 96, 97, 98, 99, 100}\n",
            "<class 'set'>\n"
          ]
        }
      ]
    },
    {
      "cell_type": "code",
      "source": [
        "for i in provaListComprehension:\n",
        "  print(i)"
      ],
      "metadata": {
        "colab": {
          "base_uri": "https://localhost:8080/"
        },
        "id": "I5qlJxA6an34",
        "outputId": "800f77c8-a90d-4223-a7c7-f9475cb7e506"
      },
      "execution_count": 28,
      "outputs": [
        {
          "output_type": "stream",
          "name": "stdout",
          "text": [
            "1\n",
            "2\n",
            "3\n",
            "4\n",
            "5\n",
            "6\n",
            "7\n",
            "8\n",
            "9\n",
            "10\n",
            "11\n",
            "12\n",
            "13\n",
            "14\n",
            "15\n",
            "16\n",
            "17\n",
            "18\n",
            "19\n",
            "20\n",
            "21\n",
            "22\n",
            "23\n",
            "24\n",
            "25\n",
            "26\n",
            "27\n",
            "28\n",
            "29\n",
            "30\n",
            "31\n",
            "32\n",
            "33\n",
            "34\n",
            "35\n",
            "36\n",
            "37\n",
            "38\n",
            "39\n",
            "40\n",
            "41\n",
            "42\n",
            "43\n",
            "44\n",
            "45\n",
            "46\n",
            "47\n",
            "48\n",
            "49\n",
            "50\n",
            "51\n",
            "52\n",
            "53\n",
            "54\n",
            "55\n",
            "56\n",
            "57\n",
            "58\n",
            "59\n",
            "60\n",
            "61\n",
            "62\n",
            "63\n",
            "64\n",
            "65\n",
            "66\n",
            "67\n",
            "68\n",
            "69\n",
            "70\n",
            "71\n",
            "72\n",
            "73\n",
            "74\n",
            "75\n",
            "76\n",
            "77\n",
            "78\n",
            "79\n",
            "80\n",
            "81\n",
            "82\n",
            "83\n",
            "84\n",
            "85\n",
            "86\n",
            "87\n",
            "88\n",
            "89\n",
            "90\n",
            "91\n",
            "92\n",
            "93\n",
            "94\n",
            "95\n",
            "96\n",
            "97\n",
            "98\n",
            "99\n",
            "100\n"
          ]
        }
      ]
    }
  ]
}