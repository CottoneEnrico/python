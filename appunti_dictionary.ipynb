{
  "nbformat": 4,
  "nbformat_minor": 0,
  "metadata": {
    "colab": {
      "provenance": [],
      "collapsed_sections": [],
      "authorship_tag": "ABX9TyN90Sh7u/ZY2HbM8uLugdKv",
      "include_colab_link": true
    },
    "kernelspec": {
      "name": "python3",
      "display_name": "Python 3"
    },
    "language_info": {
      "name": "python"
    }
  },
  "cells": [
    {
      "cell_type": "markdown",
      "metadata": {
        "id": "view-in-github",
        "colab_type": "text"
      },
      "source": [
        "<a href=\"https://colab.research.google.com/github/CottoneEnrico/python/blob/main/appunti_dictionary.ipynb\" target=\"_parent\"><img src=\"https://colab.research.google.com/assets/colab-badge.svg\" alt=\"Open In Colab\"/></a>"
      ]
    },
    {
      "cell_type": "code",
      "execution_count": 17,
      "metadata": {
        "colab": {
          "base_uri": "https://localhost:8080/"
        },
        "id": "kP0_kfNOGM2m",
        "outputId": "f0f78ca3-8d5f-4d9a-a805-6883cd9fd01e"
      },
      "outputs": [
        {
          "output_type": "stream",
          "name": "stdout",
          "text": [
            "3\n",
            "dict_keys(['nome', 'cognome', 'età'])\n"
          ]
        }
      ],
      "source": [
        "cottone = {\n",
        "    \"nome\": \"Enrico\",\n",
        "    \"cognome\": \"Cottone\",\n",
        "    \"età\": 16\n",
        "}\n",
        "\n",
        "print(len(cottone.keys()))\n",
        "print(cottone.keys())"
      ]
    }
  ]
}